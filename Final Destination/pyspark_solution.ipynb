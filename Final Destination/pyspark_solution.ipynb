{
 "cells": [
  {
   "cell_type": "markdown",
   "metadata": {},
   "source": [
    "# Create Dataframe"
   ]
  },
  {
   "cell_type": "code",
   "execution_count": 1,
   "metadata": {},
   "outputs": [
    {
     "name": "stderr",
     "output_type": "stream",
     "text": [
      "Setting default log level to \"WARN\".\n",
      "To adjust logging level use sc.setLogLevel(newLevel). For SparkR, use setLogLevel(newLevel).\n",
      "24/01/15 17:24:02 WARN NativeCodeLoader: Unable to load native-hadoop library for your platform... using builtin-java classes where applicable\n",
      "                                                                                \r"
     ]
    },
    {
     "name": "stdout",
     "output_type": "stream",
     "text": [
      "+-------+---------+---------+-----------+\n",
      "|cust_id|flight_id|   origin|destination|\n",
      "+-------+---------+---------+-----------+\n",
      "|      1|  Flight1|    Delhi|  Hyderabad|\n",
      "|      1|  Flight2|Hyderabad|      Kochi|\n",
      "|      1|  Flight3|    Kochi|  Mangalore|\n",
      "|      2|  Flight1|   Mumbai|    Ayodhya|\n",
      "|      2|  Flight2|  Ayodhya|  Gorakhpur|\n",
      "+-------+---------+---------+-----------+\n",
      "\n"
     ]
    }
   ],
   "source": [
    "from pyspark.sql import SparkSession\n",
    "spark = SparkSession.builder.getOrCreate()\n",
    "\n",
    "flights_data = [(1,'Flight1' , 'Delhi' , 'Hyderabad'),\n",
    " (1,'Flight2' , 'Hyderabad' , 'Kochi'),\n",
    " (1,'Flight3' , 'Kochi' , 'Mangalore'),\n",
    " (2,'Flight1' , 'Mumbai' , 'Ayodhya'),\n",
    " (2,'Flight2' , 'Ayodhya' , 'Gorakhpur')\n",
    " ]\n",
    "\n",
    "_schema = \"cust_id int, flight_id string , origin string , destination string\"\n",
    "\n",
    "df_flight = spark.createDataFrame(data = flights_data , schema= _schema)\n",
    "df_flight.show()"
   ]
  },
  {
   "cell_type": "code",
   "execution_count": 2,
   "metadata": {},
   "outputs": [],
   "source": [
    "from pyspark.sql.functions import col\n",
    "\n",
    "df_final_stop = df_flight.alias(\"original_df_flight\").join(df_flight.alias(\"new_df_flight\"), \n",
    "               [col(\"original_df_flight.cust_id\") == col(\"new_df_flight.cust_id\"), \\\n",
    "                col(\"original_df_flight.destination\") == col(\"new_df_flight.origin\")], \"left\") \\\n",
    "                .select(col(\"original_df_flight.cust_id\"),col(\"original_df_flight.destination\"),\n",
    "                        col(\"new_df_flight.destination\").alias(\"next_stop\")) \\\n",
    "                .where(\"next_stop is NULL\")"
   ]
  },
  {
   "cell_type": "code",
   "execution_count": 3,
   "metadata": {},
   "outputs": [],
   "source": [
    "df_origin = df_flight.alias(\"original_df_flight\").join(df_flight.alias(\"new_df_flight\"), \n",
    "               [col(\"original_df_flight.cust_id\") == col(\"new_df_flight.cust_id\"), \\\n",
    "                col(\"original_df_flight.origin\") == col(\"new_df_flight.destination\")], \"left\") \\\n",
    "                .select(col(\"original_df_flight.cust_id\"),col(\"original_df_flight.origin\"),\n",
    "                        col(\"new_df_flight.origin\").alias(\"previous_stop\")) \\\n",
    "                .where(\"previous_stop is NULL\")"
   ]
  },
  {
   "cell_type": "code",
   "execution_count": 4,
   "metadata": {},
   "outputs": [
    {
     "name": "stderr",
     "output_type": "stream",
     "text": [
      "                                                                                \r"
     ]
    },
    {
     "name": "stdout",
     "output_type": "stream",
     "text": [
      "+-------+------+-----------+\n",
      "|cust_id|origin|destination|\n",
      "+-------+------+-----------+\n",
      "|      1| Delhi|  Mangalore|\n",
      "|      2|Mumbai|  Gorakhpur|\n",
      "+-------+------+-----------+\n",
      "\n"
     ]
    }
   ],
   "source": [
    "df_final = df_final_stop.alias(\"destination\") \\\n",
    "            .join(df_origin.alias(\"origin\"), df_final_stop.cust_id == df_origin.cust_id, \"inner\") \\\n",
    "            .select(col(\"origin.cust_id\"),col(\"origin.origin\"),col(\"destination.destination\")).show()"
   ]
  }
 ],
 "metadata": {
  "kernelspec": {
   "display_name": "Python 3",
   "language": "python",
   "name": "python3"
  },
  "language_info": {
   "codemirror_mode": {
    "name": "ipython",
    "version": 3
   },
   "file_extension": ".py",
   "mimetype": "text/x-python",
   "name": "python",
   "nbconvert_exporter": "python",
   "pygments_lexer": "ipython3",
   "version": "3.11.6"
  }
 },
 "nbformat": 4,
 "nbformat_minor": 2
}
